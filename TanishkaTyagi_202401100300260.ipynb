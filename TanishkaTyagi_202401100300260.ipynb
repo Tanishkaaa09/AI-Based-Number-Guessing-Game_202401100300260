{
  "nbformat": 4,
  "nbformat_minor": 0,
  "metadata": {
    "colab": {
      "provenance": []
    },
    "kernelspec": {
      "name": "python3",
      "display_name": "Python 3"
    },
    "language_info": {
      "name": "python"
    }
  },
  "cells": [
    {
      "cell_type": "code",
      "source": [
        "import random\n",
        "\n",
        "def number_guessing_game():\n",
        "    # Generate a random number between 1 and 100\n",
        "    target_number = random.randint(1, 100)\n",
        "    attempts = 0\n",
        "    low = 1\n",
        "    high = 100\n",
        "\n",
        "    print(\"Welcome to the Number Guessing Game!\")\n",
        "    print(\"I will try to guess the number between 1 and 100.\")\n",
        "\n",
        "    while True:\n",
        "        # The AI makes a guess in the middle of the range\n",
        "        guess = random.randint(low, high)\n",
        "        attempts += 1\n",
        "        print(f\"My guess is {guess}\")\n",
        "\n",
        "        # Check if the guess is too low\n",
        "        if guess < target_number:\n",
        "            print(\"Too low! I'll try again.\")\n",
        "            low = guess + 1\n",
        "\n",
        "        # Check if the guess is too high\n",
        "        elif guess > target_number:\n",
        "            print(\"Too high! I'll try again.\")\n",
        "            high = guess - 1\n",
        "\n",
        "        # Check if the guess is correct\n",
        "        else:\n",
        "            print(f\"Congratulations to me! I've guessed the number {target_number} in {attempts} attempts.\")\n",
        "            break\n",
        "\n",
        "# Start the game\n",
        "number_guessing_game()\n"
      ],
      "metadata": {
        "id": "1CTgOALMnAKi",
        "outputId": "439cc3d4-6b67-47cc-f105-46d342fd2df6",
        "colab": {
          "base_uri": "https://localhost:8080/"
        }
      },
      "execution_count": null,
      "outputs": [
        {
          "output_type": "stream",
          "name": "stdout",
          "text": [
            "Welcome to the Number Guessing Game!\n",
            "I will try to guess the number between 1 and 100.\n",
            "My guess is 84\n",
            "Too high! I'll try again.\n",
            "My guess is 31\n",
            "Too high! I'll try again.\n",
            "My guess is 3\n",
            "Too low! I'll try again.\n",
            "My guess is 25\n",
            "Too high! I'll try again.\n",
            "My guess is 23\n",
            "Too high! I'll try again.\n",
            "My guess is 11\n",
            "Too low! I'll try again.\n",
            "My guess is 18\n",
            "Congratulations to me! I've guessed the number 18 in 7 attempts.\n"
          ]
        }
      ]
    }
  ]
}